{
 "cells": [
  {
   "cell_type": "code",
   "execution_count": 115,
   "id": "3109a3c4",
   "metadata": {},
   "outputs": [],
   "source": [
    "import numpy as np\n",
    "import matplotlib.pyplot as plt"
   ]
  },
  {
   "cell_type": "code",
   "execution_count": 44,
   "id": "1eb8f8af",
   "metadata": {},
   "outputs": [],
   "source": [
    "def read_file(filename):\n",
    "    params={}\n",
    "    dist=[]\n",
    "    with open(\"tiny_gph.dat\",\"r\") as f:\n",
    "        lines=f.readlines()\n",
    "        for line in lines:\n",
    "            line=line[:-1]\n",
    "            l=line.split(\" \")\n",
    "            if l[0]==\"param\" and l[1]!=\":\":\n",
    "                params[l[1]]=l[-1][:-1]\n",
    "            try:\n",
    "                dist.append((int(l[0]),int(l[1]),float(l[2])))\n",
    "            except:\n",
    "                continue\n",
    "    return params,dist\n",
    "            \n",
    "            "
   ]
  },
  {
   "cell_type": "code",
   "execution_count": 45,
   "id": "83ed1e8b",
   "metadata": {},
   "outputs": [],
   "source": [
    "param,dist=read_file(\"tiny_gph.dat\")"
   ]
  },
  {
   "cell_type": "code",
   "execution_count": 46,
   "id": "323ee790",
   "metadata": {},
   "outputs": [
    {
     "data": {
      "text/plain": [
       "{'Kdim': '3', 'n': '38'}"
      ]
     },
     "execution_count": 46,
     "metadata": {},
     "output_type": "execute_result"
    }
   ],
   "source": [
    "param"
   ]
  },
  {
   "cell_type": "code",
   "execution_count": 47,
   "id": "f46bc398",
   "metadata": {},
   "outputs": [
    {
     "data": {
      "text/plain": [
       "[(1, 2, 1.22664),\n",
       " (1, 3, 1.39515),\n",
       " (1, 4, 2.47463),\n",
       " (1, 5, 3.6222),\n",
       " (1, 6, 3.63798),\n",
       " (1, 7, 2.52213),\n",
       " (1, 8, 3.14195),\n",
       " (1, 9, 3.08184),\n",
       " (1, 10, 4.54867),\n",
       " (1, 11, 2.82026),\n",
       " (1, 12, 4.0627),\n",
       " (1, 13, 3.98525),\n",
       " (1, 14, 2.98023),\n",
       " (1, 15, 4.53928),\n",
       " (1, 16, 2.7638),\n",
       " (1, 17, 4.34809),\n",
       " (1, 22, 4.94446),\n",
       " (1, 25, 4.72587),\n",
       " (1, 29, 3.08679),\n",
       " (1, 30, 4.11506),\n",
       " (1, 32, 3.98568),\n",
       " (1, 37, 3.31114),\n",
       " (2, 3, 2.31605),\n",
       " (2, 4, 2.80393),\n",
       " (2, 5, 4.20491),\n",
       " (2, 6, 4.53685),\n",
       " (2, 7, 3.63805),\n",
       " (2, 8, 3.21547),\n",
       " (2, 9, 3.28287),\n",
       " (2, 10, 4.99467),\n",
       " (2, 11, 3.97857),\n",
       " (2, 12, 4.88936),\n",
       " (2, 13, 4.58428),\n",
       " (2, 14, 4.12092),\n",
       " (2, 16, 2.71423),\n",
       " (2, 17, 4.21612),\n",
       " (2, 21, 4.97502),\n",
       " (2, 22, 4.55497),\n",
       " (2, 25, 4.57796),\n",
       " (2, 29, 2.88229),\n",
       " (2, 30, 2.96872),\n",
       " (2, 31, 4.18956),\n",
       " (2, 32, 2.81522),\n",
       " (2, 33, 4.8974),\n",
       " (2, 34, 4.37386),\n",
       " (2, 35, 4.78031),\n",
       " (2, 37, 2.20559),\n",
       " (3, 4, 1.4833),\n",
       " (3, 5, 2.30291),\n",
       " (3, 6, 2.27031),\n",
       " (3, 7, 1.41421),\n",
       " (3, 8, 2.45626),\n",
       " (3, 9, 2.61842),\n",
       " (3, 10, 3.26928),\n",
       " (3, 11, 2.08722),\n",
       " (3, 12, 2.80505),\n",
       " (3, 13, 2.76567),\n",
       " (3, 14, 2.10246),\n",
       " (3, 15, 3.19931),\n",
       " (3, 16, 2.17802),\n",
       " (3, 17, 3.66899),\n",
       " (3, 18, 4.93158),\n",
       " (3, 22, 4.9545),\n",
       " (3, 23, 4.89571),\n",
       " (3, 25, 3.9573),\n",
       " (3, 29, 3.92743),\n",
       " (3, 30, 4.71262),\n",
       " (3, 32, 4.87787),\n",
       " (3, 37, 4.39445),\n",
       " (4, 5, 1.51286),\n",
       " (4, 6, 2.32698),\n",
       " (4, 7, 2.42538),\n",
       " (4, 8, 1.51982),\n",
       " (4, 9, 2.35373),\n",
       " (4, 10, 2.19082),\n",
       " (4, 11, 3.22407),\n",
       " (4, 12, 2.75116),\n",
       " (4, 13, 2.21084),\n",
       " (4, 14, 3.12307),\n",
       " (4, 15, 3.30412),\n",
       " (4, 16, 1.06535),\n",
       " (4, 17, 2.42194),\n",
       " (4, 18, 3.84033),\n",
       " (4, 19, 4.55903),\n",
       " (4, 21, 4.44583),\n",
       " (4, 22, 4.46976),\n",
       " (4, 23, 4.06172),\n",
       " (4, 25, 2.51925),\n",
       " (4, 26, 4.42835),\n",
       " (4, 29, 4.54088),\n",
       " (4, 30, 4.22369),\n",
       " (4, 32, 4.75607),\n",
       " (4, 37, 4.58502),\n",
       " (5, 6, 1.49676),\n",
       " (5, 7, 2.373),\n",
       " (5, 8, 2.50492),\n",
       " (5, 9, 3.28243),\n",
       " (5, 10, 1.09305),\n",
       " (5, 11, 3.3039),\n",
       " (5, 12, 2.17752),\n",
       " (5, 13, 1.10034),\n",
       " (5, 14, 2.85998),\n",
       " (5, 15, 2.14864),\n",
       " (5, 16, 2.14637),\n",
       " (5, 17, 3.06474),\n",
       " (5, 18, 4.46569),\n",
       " (5, 19, 4.82643),\n",
       " (5, 23, 4.10922),\n",
       " (5, 25, 2.89999),\n",
       " (5, 26, 4.939),\n",
       " (6, 7, 1.51372),\n",
       " (6, 8, 2.99419),\n",
       " (6, 9, 3.22883),\n",
       " (6, 10, 2.13333),\n",
       " (6, 11, 2.16357),\n",
       " (6, 12, 1.09421),\n",
       " (6, 13, 2.12314),\n",
       " (6, 14, 2.16275),\n",
       " (6, 15, 1.09274),\n",
       " (6, 16, 3.27244),\n",
       " (6, 17, 3.84852),\n",
       " (6, 23, 4.15158),\n",
       " (6, 25, 4.00061),\n",
       " (7, 8, 3.30179),\n",
       " (7, 9, 3.28487),\n",
       " (7, 10, 3.3345),\n",
       " (7, 11, 1.09322),\n",
       " (7, 12, 2.17669),\n",
       " (7, 13, 2.73503),\n",
       " (7, 14, 1.10069),\n",
       " (7, 15, 2.15745),\n",
       " (7, 16, 3.28908),\n",
       " (7, 17, 4.4641),\n",
       " (7, 25, 4.73509),\n",
       " (7, 29, 4.76775),\n",
       " (8, 9, 1.22098),\n",
       " (8, 10, 2.65321),\n",
       " (8, 11, 3.73427),\n",
       " (8, 12, 2.83113),\n",
       " (8, 13, 3.47838),\n",
       " (8, 14, 4.25246),\n",
       " (8, 15, 4.04177),\n",
       " (8, 16, 2.0986),\n",
       " (8, 17, 1.31631),\n",
       " (8, 18, 2.4768),\n",
       " (8, 19, 3.19456),\n",
       " (8, 20, 4.36446),\n",
       " (8, 21, 3.01874),\n",
       " (8, 22, 3.05667),\n",
       " (8, 23, 2.85436),\n",
       " (8, 24, 3.74771),\n",
       " (8, 25, 1.99602),\n",
       " (8, 26, 3.25851),\n",
       " (8, 27, 4.99615),\n",
       " (8, 29, 4.03021),\n",
       " (8, 30, 4.19425),\n",
       " (8, 37, 4.96245),\n",
       " (9, 10, 3.53636),\n",
       " (9, 11, 3.34386),\n",
       " (9, 12, 2.80047),\n",
       " (9, 13, 4.29421),\n",
       " (9, 14, 4.34913),\n",
       " (9, 15, 4.28616),\n",
       " (9, 16, 3.09249),\n",
       " (9, 17, 2.24588),\n",
       " (9, 18, 2.85763),\n",
       " (9, 19, 3.2343),\n",
       " (9, 20, 4.59724),\n",
       " (9, 21, 2.99302),\n",
       " (9, 22, 2.57059),\n",
       " (9, 23, 2.84704),\n",
       " (9, 24, 3.45012),\n",
       " (9, 25, 3.11775),\n",
       " (9, 26, 3.84434),\n",
       " (9, 29, 3.19803),\n",
       " (9, 30, 4.70521),\n",
       " (10, 11, 4.14485),\n",
       " (10, 12, 2.41745),\n",
       " (10, 13, 1.78008),\n",
       " (10, 14, 3.87931),\n",
       " (10, 15, 2.59593),\n",
       " (10, 16, 2.67646),\n",
       " (10, 17, 2.74875),\n",
       " (10, 18, 4.02352),\n",
       " (10, 19, 4.24984),\n",
       " (10, 20, 4.80905),\n",
       " (10, 23, 3.5559),\n",
       " (10, 25, 2.42498),\n",
       " (10, 26, 4.3521),\n",
       " (11, 12, 2.37517),\n",
       " (11, 13, 3.78844),\n",
       " (11, 14, 1.77973),\n",
       " (11, 15, 2.70229),\n",
       " (11, 16, 4.15013),\n",
       " (11, 17, 4.96147),\n",
       " (11, 29, 4.43275),\n",
       " (12, 13, 3.048),\n",
       " (12, 14, 3.03956),\n",
       " (12, 15, 1.7401),\n",
       " (12, 16, 3.78005),\n",
       " (12, 17, 3.61082),\n",
       " (12, 18, 4.56624),\n",
       " (12, 19, 4.30712),\n",
       " (12, 23, 3.32359),\n",
       " (12, 24, 4.82203),\n",
       " (12, 25, 3.96124),\n",
       " (13, 14, 2.79225),\n",
       " (13, 15, 2.36305),\n",
       " (13, 16, 2.4774),\n",
       " (13, 17, 3.97613),\n",
       " (13, 25, 3.62116),\n",
       " (14, 15, 2.35604),\n",
       " (14, 16, 3.78316),\n",
       " (15, 16, 4.14653),\n",
       " (15, 17, 4.77371),\n",
       " (15, 23, 4.84233),\n",
       " (15, 25, 4.81056),\n",
       " (16, 17, 2.61951),\n",
       " (16, 18, 4.03988),\n",
       " (16, 21, 4.5925),\n",
       " (16, 22, 4.7691),\n",
       " (16, 23, 4.71411),\n",
       " (16, 25, 2.44235),\n",
       " (16, 26, 4.43749),\n",
       " (16, 29, 4.91663),\n",
       " (16, 30, 3.50287),\n",
       " (16, 32, 4.05749),\n",
       " (16, 34, 4.50682),\n",
       " (16, 37, 4.04102),\n",
       " (16, 38, 4.7638),\n",
       " (17, 18, 1.4871),\n",
       " (17, 19, 2.49463),\n",
       " (17, 20, 3.41582),\n",
       " (17, 21, 2.50089),\n",
       " (17, 22, 3.05647),\n",
       " (17, 23, 2.46852),\n",
       " (17, 24, 3.2731),\n",
       " (17, 25, 1.00938),\n",
       " (17, 26, 2.02615),\n",
       " (17, 27, 4.18349),\n",
       " (17, 30, 4.34472),\n",
       " (17, 38, 4.90132),\n",
       " (18, 19, 1.56062),\n",
       " (18, 20, 2.46837),\n",
       " (18, 21, 1.4786),\n",
       " (18, 22, 2.39158),\n",
       " (18, 23, 2.17551),\n",
       " (18, 24, 2.17525),\n",
       " (18, 25, 2.15719),\n",
       " (18, 26, 1.06099),\n",
       " (18, 27, 3.2995),\n",
       " (18, 30, 4.94293),\n",
       " (19, 20, 1.43295),\n",
       " (19, 21, 2.48499),\n",
       " (19, 22, 3.02112),\n",
       " (19, 23, 1.07857),\n",
       " (19, 24, 1.08716),\n",
       " (19, 25, 3.14211),\n",
       " (19, 26, 2.11769),\n",
       " (19, 27, 1.97976),\n",
       " (20, 21, 3.51673),\n",
       " (20, 22, 4.27877),\n",
       " (20, 23, 2.05248),\n",
       " (20, 24, 2.06491),\n",
       " (20, 25, 3.72761),\n",
       " (20, 26, 2.39208),\n",
       " (20, 27, 0.9386),\n",
       " (21, 22, 1.21766),\n",
       " (21, 23, 3.17968),\n",
       " (21, 24, 2.44329),\n",
       " (21, 25, 3.291),\n",
       " (21, 26, 2.11367),\n",
       " (21, 27, 4.24633),\n",
       " (21, 29, 4.55945),\n",
       " (21, 30, 4.53563),\n",
       " (21, 38, 4.78725),\n",
       " (22, 23, 3.4697),\n",
       " (22, 24, 2.68646),\n",
       " (22, 25, 3.98982),\n",
       " (22, 26, 3.24304),\n",
       " (22, 27, 4.86097),\n",
       " (22, 29, 3.53689),\n",
       " (22, 30, 4.65233),\n",
       " (23, 24, 1.76166),\n",
       " (23, 25, 3.09884),\n",
       " (23, 26, 2.84725),\n",
       " (23, 27, 2.33709),\n",
       " (24, 25, 4.05912),\n",
       " (24, 26, 2.82596),\n",
       " (24, 27, 2.32623),\n",
       " (25, 26, 2.23205),\n",
       " (25, 27, 4.52605),\n",
       " (25, 30, 4.42701),\n",
       " (25, 38, 4.76247),\n",
       " (26, 27, 3.32451),\n",
       " (26, 38, 4.91122),\n",
       " (29, 30, 4.65386),\n",
       " (29, 32, 4.72458),\n",
       " (29, 37, 4.17803),\n",
       " (30, 31, 2.27553),\n",
       " (30, 32, 1.37801),\n",
       " (30, 33, 2.24328),\n",
       " (30, 34, 1.41365),\n",
       " (30, 35, 3.30776),\n",
       " (30, 36, 3.35201),\n",
       " (30, 37, 2.15684),\n",
       " (30, 38, 2.1609),\n",
       " (31, 32, 1.403),\n",
       " (31, 33, 1.35412),\n",
       " (31, 34, 2.26103),\n",
       " (31, 35, 1.07467),\n",
       " (31, 36, 2.21585),\n",
       " (31, 37, 2.15821),\n",
       " (31, 38, 3.25814),\n",
       " (32, 33, 2.20187),\n",
       " (32, 34, 2.24043),\n",
       " (32, 35, 2.20974),\n",
       " (32, 36, 3.31351),\n",
       " (32, 37, 1.03447),\n",
       " (32, 38, 3.22346),\n",
       " (33, 34, 1.38871),\n",
       " (33, 35, 2.18903),\n",
       " (33, 36, 1.14829),\n",
       " (33, 37, 3.19409),\n",
       " (33, 38, 2.19049),\n",
       " (34, 35, 3.30468),\n",
       " (34, 36, 2.24642),\n",
       " (34, 37, 3.24446),\n",
       " (34, 38, 1.02609),\n",
       " (35, 36, 2.67187),\n",
       " (35, 37, 2.60782),\n",
       " (35, 38, 4.27445),\n",
       " (36, 37, 4.26751),\n",
       " (36, 38, 2.69704),\n",
       " (37, 38, 4.19558)]"
      ]
     },
     "execution_count": 47,
     "metadata": {},
     "output_type": "execute_result"
    }
   ],
   "source": [
    "dist"
   ]
  },
  {
   "cell_type": "code",
   "execution_count": 62,
   "id": "2c742e75",
   "metadata": {},
   "outputs": [],
   "source": [
    "def mat_metrics(params, dists):\n",
    "    num_points=int(params[\"n\"])\n",
    "    metric=np.ones((num_points,num_points))*np.inf\n",
    "    for i in range(num_points):\n",
    "        metric[i,i]=0.0\n",
    "    for dist in dists:\n",
    "        metric[dist[0]-1,dist[1]-1]=dist[2]\n",
    "        metric[dist[1]-1,dist[0]-1]=dist[2]\n",
    "    return metric"
   ]
  },
  {
   "cell_type": "code",
   "execution_count": 63,
   "id": "a5be2433",
   "metadata": {},
   "outputs": [],
   "source": [
    "metric=mat_metrics(param,dist)"
   ]
  },
  {
   "cell_type": "code",
   "execution_count": 64,
   "id": "861495c2",
   "metadata": {},
   "outputs": [
    {
     "data": {
      "text/plain": [
       "array([[0.     , 1.22664, 1.39515, ...,     inf, 3.31114,     inf],\n",
       "       [1.22664, 0.     , 2.31605, ...,     inf, 2.20559,     inf],\n",
       "       [1.39515, 2.31605, 0.     , ...,     inf, 4.39445,     inf],\n",
       "       ...,\n",
       "       [    inf,     inf,     inf, ..., 0.     , 4.26751, 2.69704],\n",
       "       [3.31114, 2.20559, 4.39445, ..., 4.26751, 0.     , 4.19558],\n",
       "       [    inf,     inf,     inf, ..., 2.69704, 4.19558, 0.     ]])"
      ]
     },
     "execution_count": 64,
     "metadata": {},
     "output_type": "execute_result"
    }
   ],
   "source": [
    "metric"
   ]
  },
  {
   "cell_type": "code",
   "execution_count": 65,
   "id": "ba0df6bb",
   "metadata": {},
   "outputs": [],
   "source": [
    "def Floyd_Warshall(mat):\n",
    "    dim=mat.shape[0]\n",
    "    for z in range(dim):\n",
    "        for u in range(dim):\n",
    "            for v in range(dim):\n",
    "                mat[u,v]=min(mat[u,v],mat[z,v]+mat[z,u])\n",
    "    return mat\n",
    "                "
   ]
  },
  {
   "cell_type": "code",
   "execution_count": 66,
   "id": "f96847a7",
   "metadata": {},
   "outputs": [],
   "source": [
    "met=Floyd_Warshall(metric)"
   ]
  },
  {
   "cell_type": "code",
   "execution_count": 70,
   "id": "91a6a715",
   "metadata": {},
   "outputs": [
    {
     "data": {
      "text/plain": [
       "array([[0.     , 1.22664, 1.39515, ..., 7.27233, 3.31114, 6.27596],\n",
       "       [1.22664, 0.     , 2.31605, ..., 6.04569, 2.20559, 5.12962],\n",
       "       [1.39515, 2.31605, 0.     , ..., 8.06463, 4.39445, 6.87352],\n",
       "       ...,\n",
       "       [7.27233, 6.04569, 8.06463, ..., 0.     , 4.26751, 2.69704],\n",
       "       [3.31114, 2.20559, 4.39445, ..., 4.26751, 0.     , 4.19558],\n",
       "       [6.27596, 5.12962, 6.87352, ..., 2.69704, 4.19558, 0.     ]])"
      ]
     },
     "execution_count": 70,
     "metadata": {},
     "output_type": "execute_result"
    }
   ],
   "source": [
    "met"
   ]
  },
  {
   "cell_type": "code",
   "execution_count": 104,
   "id": "502d46f7",
   "metadata": {},
   "outputs": [],
   "source": [
    "def remove_iso(mat):\n",
    "    dim=mat.shape[0]\n",
    "    d=[]\n",
    "    for z in range(dim):\n",
    "        if mat[z,0]==np.inf:\n",
    "            d.append(z)\n",
    "    mat=np.delete(mat,d,axis=0)\n",
    "    mat=np.delete(mat,d,axis=1)\n",
    "    return mat"
   ]
  },
  {
   "cell_type": "code",
   "execution_count": 105,
   "id": "75f2bf0a",
   "metadata": {},
   "outputs": [],
   "source": [
    "met=remove_iso(met)"
   ]
  },
  {
   "cell_type": "code",
   "execution_count": 106,
   "id": "a1bd8259",
   "metadata": {},
   "outputs": [],
   "source": [
    "def dist2Gram(D):\n",
    "    n = D.shape[0]\n",
    "    J = np.identity(n) - (1.0/n)*np.ones((n,n))\n",
    "    G = -0.5 * J@(D@(D@J))\n",
    "    return G"
   ]
  },
  {
   "cell_type": "code",
   "execution_count": 107,
   "id": "36ef5805",
   "metadata": {},
   "outputs": [
    {
     "data": {
      "text/plain": [
       "array([[ -45.38107598,  -40.12928235,  -42.06408009, ...,   23.18292355,\n",
       "         -27.93227332,   20.94955504],\n",
       "       [ -40.12928235,  -47.42076234,  -27.62536465, ...,  -16.61815202,\n",
       "         -51.92415488,  -12.13221443],\n",
       "       [ -42.06408009,  -27.62536465,  -54.81449736, ...,   79.93130255,\n",
       "           8.65865617,   56.02200496],\n",
       "       ...,\n",
       "       [  23.18292355,  -16.61815202,   79.93130255, ..., -306.68369114,\n",
       "        -150.50361773, -184.31434987],\n",
       "       [ -27.93227332,  -51.92415488,    8.65865617, ..., -150.50361773,\n",
       "        -121.10229402,  -90.66107899],\n",
       "       [  20.94955504,  -12.13221443,   56.02200496, ..., -184.31434987,\n",
       "         -90.66107899, -132.65472352]])"
      ]
     },
     "execution_count": 107,
     "metadata": {},
     "output_type": "execute_result"
    }
   ],
   "source": [
    "gram=dist2Gram(met)\n",
    "gram"
   ]
  },
  {
   "cell_type": "code",
   "execution_count": 111,
   "id": "9892ac2a",
   "metadata": {},
   "outputs": [],
   "source": [
    "def factor(A):\n",
    "    n = A.shape[0]\n",
    "    (evals,evecs) = np.linalg.eigh(A)\n",
    "    evals[evals < 0] = 0 # closest SDP matrix\n",
    "    X = evecs\n",
    "    sqrootdiag = np.eye(n)\n",
    "    for i in range(n):\n",
    "        sqrootdiag[i,i] = np.sqrt(evals[i])\n",
    "    X = X.dot(sqrootdiag)\n",
    "    # because default eig order is small->large\n",
    "    return np.fliplr(X)"
   ]
  },
  {
   "cell_type": "code",
   "execution_count": 112,
   "id": "d4f42928",
   "metadata": {},
   "outputs": [],
   "source": [
    "def PCA(B,K):\n",
    "    x = factor(B)\n",
    "    # only first K columns\n",
    "    x = x[:,0:K]\n",
    "    return x"
   ]
  },
  {
   "cell_type": "code",
   "execution_count": 117,
   "id": "f4fda52c",
   "metadata": {},
   "outputs": [],
   "source": [
    "new_coord_2=PCA(met,2)"
   ]
  },
  {
   "cell_type": "code",
   "execution_count": 120,
   "id": "29699244",
   "metadata": {},
   "outputs": [
    {
     "data": {
      "image/png": "[encoded data removed]",
      "text/plain": [
       "<Figure size 640x480 with 1 Axes>"
      ]
     },
     "metadata": {},
     "output_type": "display_data"
    }
   ],
   "source": [
    "plt.scatter(new_coord_2[:,0],new_coord_2[:,1])\n",
    "plt.show()"
   ]
  },
  {
   "cell_type": "code",
   "execution_count": 121,
   "id": "3f38b736",
   "metadata": {},
   "outputs": [],
   "source": [
    "new_coord_3=PCA(met,3)"
   ]
  },
  {
   "cell_type": "code",
   "execution_count": 128,
   "id": "890f992e",
   "metadata": {},
   "outputs": [
    {
     "data": {
      "image/png": "[encoded data removed]",
      "text/plain": [
       "<Figure size 640x480 with 1 Axes>"
      ]
     },
     "metadata": {},
     "output_type": "display_data"
    }
   ],
   "source": [
    "fig = plt.figure()\n",
    "ax = plt.axes(projection=\"3d\")\n",
    "\n",
    "ax.scatter(new_coord_3[:,0],new_coord_3[:,1],new_coord_3[:,2])\n",
    "plt.show()"
   ]
  },
  {
   "cell_type": "code",
   "execution_count": null,
   "id": "085c6819",
   "metadata": {},
   "outputs": [],
   "source": []
  }
 ],
 "metadata": {
  "kernelspec": {
   "display_name": "Python 3 (ipykernel)",
   "language": "python",
   "name": "python3"
  },
  "language_info": {
   "codemirror_mode": {
    "name": "ipython",
    "version": 3
   },
   "file_extension": ".py",
   "mimetype": "text/x-python",
   "name": "python",
   "nbconvert_exporter": "python",
   "pygments_lexer": "ipython3",
   "version": "3.8.0"
  }
 },
 "nbformat": 4,
 "nbformat_minor": 5
}
